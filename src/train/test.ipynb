{
 "cells": [
  {
   "cell_type": "code",
   "execution_count": null,
   "id": "829c6ab1",
   "metadata": {},
   "outputs": [],
   "source": [
    "from train.model import DNN"
   ]
  },
  {
   "cell_type": "code",
   "execution_count": null,
   "id": "721fbf21",
   "metadata": {},
   "outputs": [],
   "source": [
    "nodes = [33, 33, 33, 33, 33, 33, 10, 2] \n",
    "names = ['input'] + [f'hidden_{i}' for i in range(1, len(nodes) - 1)] + ['output']\n",
    "model = DNN(names, nodes, dropout=0.2)\n",
    "\n",
    "model.build(input_shape=(None, nodes[0]))\n",
    "model.summary()\n",
    "# print model summary\n",
    "model.summary()"
   ]
  }
 ],
 "metadata": {
  "kernelspec": {
   "display_name": "Python 3 (ipykernel)",
   "language": "python",
   "name": "python3"
  }
 },
 "nbformat": 4,
 "nbformat_minor": 5
}
